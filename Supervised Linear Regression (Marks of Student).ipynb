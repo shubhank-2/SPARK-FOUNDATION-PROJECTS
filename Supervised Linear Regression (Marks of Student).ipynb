{
 "cells": [
  {
   "cell_type": "markdown",
   "id": "b882c525",
   "metadata": {},
   "source": [
    "# TASK 1 - OBJECTIVE OF SUPERVISED LEARNING "
   ]
  },
  {
   "cell_type": "markdown",
   "id": "b2407d04",
   "metadata": {},
   "source": [
    "#### PREDICT THE PERCENTAGE OF AN STUDENT BASED ON NUMBER OF HOURS THE STUDENT HAS STUDIED"
   ]
  },
  {
   "cell_type": "markdown",
   "id": "01042786",
   "metadata": {},
   "source": [
    "## IMPORTING IMPORTANT LIBRAIRES FOR THE TASK"
   ]
  },
  {
   "cell_type": "code",
   "execution_count": 1,
   "id": "c3bb4062",
   "metadata": {},
   "outputs": [],
   "source": [
    "# Importing Numeric Python\n",
    "import numpy as np\n",
    "\n",
    "# Importing Pandas\n",
    "import pandas as pd\n",
    "\n",
    "# Importing Data Visualization\n",
    "import matplotlib.pyplot as plt\n",
    "import matplotlib.cm as cm\n",
    "import seaborn as sns\n",
    "import plotly.express as px\n",
    "\n",
    "# Data Preprocessing\n",
    "from sklearn.preprocessing import StandardScaler\n",
    "from sklearn.preprocessing import LabelEncoder\n",
    "from sklearn.model_selection import train_test_split\n",
    "\n",
    "# Linear Regression Libraries\n",
    "import statsmodels.api as sm\n",
    "from sklearn.linear_model import LinearRegression\n",
    "\n",
    "# Regularization Technique\n",
    "from sklearn.linear_model import Lasso\n",
    "from sklearn.linear_model import Ridge\n",
    "from sklearn.linear_model import ElasticNet\n",
    "\n",
    "# GridSearch and Cross Validation\n",
    "from sklearn.model_selection import GridSearchCV\n",
    "from sklearn.model_selection import cross_val_score"
   ]
  },
  {
   "cell_type": "markdown",
   "id": "c3505c1b",
   "metadata": {},
   "source": [
    "## IMPORTING THE DATAFRAME"
   ]
  },
  {
   "cell_type": "code",
   "execution_count": 4,
   "id": "819ecf32",
   "metadata": {},
   "outputs": [
    {
     "data": {
      "text/html": [
       "<div>\n",
       "<style scoped>\n",
       "    .dataframe tbody tr th:only-of-type {\n",
       "        vertical-align: middle;\n",
       "    }\n",
       "\n",
       "    .dataframe tbody tr th {\n",
       "        vertical-align: top;\n",
       "    }\n",
       "\n",
       "    .dataframe thead th {\n",
       "        text-align: right;\n",
       "    }\n",
       "</style>\n",
       "<table border=\"1\" class=\"dataframe\">\n",
       "  <thead>\n",
       "    <tr style=\"text-align: right;\">\n",
       "      <th></th>\n",
       "      <th>Hours</th>\n",
       "      <th>Scores</th>\n",
       "    </tr>\n",
       "  </thead>\n",
       "  <tbody>\n",
       "    <tr>\n",
       "      <th>0</th>\n",
       "      <td>2.5</td>\n",
       "      <td>21</td>\n",
       "    </tr>\n",
       "    <tr>\n",
       "      <th>1</th>\n",
       "      <td>5.1</td>\n",
       "      <td>47</td>\n",
       "    </tr>\n",
       "    <tr>\n",
       "      <th>2</th>\n",
       "      <td>3.2</td>\n",
       "      <td>27</td>\n",
       "    </tr>\n",
       "    <tr>\n",
       "      <th>3</th>\n",
       "      <td>8.5</td>\n",
       "      <td>75</td>\n",
       "    </tr>\n",
       "    <tr>\n",
       "      <th>4</th>\n",
       "      <td>3.5</td>\n",
       "      <td>30</td>\n",
       "    </tr>\n",
       "  </tbody>\n",
       "</table>\n",
       "</div>"
      ],
      "text/plain": [
       "   Hours  Scores\n",
       "0    2.5      21\n",
       "1    5.1      47\n",
       "2    3.2      27\n",
       "3    8.5      75\n",
       "4    3.5      30"
      ]
     },
     "execution_count": 4,
     "metadata": {},
     "output_type": "execute_result"
    }
   ],
   "source": [
    "df = pd.read_csv('hours_score.csv')\n",
    "df.head()"
   ]
  },
  {
   "cell_type": "markdown",
   "id": "667ce996",
   "metadata": {},
   "source": [
    "### 1. DOING NULL VALUE ANALYSIS"
   ]
  },
  {
   "cell_type": "code",
   "execution_count": 6,
   "id": "5c618078",
   "metadata": {},
   "outputs": [
    {
     "data": {
      "text/plain": [
       "Hours     0.0\n",
       "Scores    0.0\n",
       "dtype: float64"
      ]
     },
     "execution_count": 6,
     "metadata": {},
     "output_type": "execute_result"
    }
   ],
   "source": [
    "# doing null value analysis\n",
    "df.isnull().sum()/len(df)*100"
   ]
  },
  {
   "cell_type": "markdown",
   "id": "f904ad6b",
   "metadata": {},
   "source": [
    "### 2. DATA TYPE OF EACH COLUMNS"
   ]
  },
  {
   "cell_type": "code",
   "execution_count": 14,
   "id": "af48c8e9",
   "metadata": {},
   "outputs": [
    {
     "name": "stdout",
     "output_type": "stream",
     "text": [
      "<class 'pandas.core.frame.DataFrame'>\n",
      "RangeIndex: 25 entries, 0 to 24\n",
      "Data columns (total 2 columns):\n",
      " #   Column  Non-Null Count  Dtype  \n",
      "---  ------  --------------  -----  \n",
      " 0   Hours   25 non-null     float64\n",
      " 1   Scores  25 non-null     int64  \n",
      "dtypes: float64(1), int64(1)\n",
      "memory usage: 528.0 bytes\n"
     ]
    }
   ],
   "source": [
    "df.info()"
   ]
  },
  {
   "cell_type": "markdown",
   "id": "ceba51e1",
   "metadata": {},
   "source": [
    "INTERPRETATION : WE CAN SEE THAT BOTH COLUMNS ARE NUMERIC DATA TYPE"
   ]
  },
  {
   "cell_type": "markdown",
   "id": "05e2fdae",
   "metadata": {},
   "source": [
    "### 3. CORRELATION MATRIX AND SCATTER PLOT "
   ]
  },
  {
   "cell_type": "code",
   "execution_count": 15,
   "id": "a33c0abd",
   "metadata": {},
   "outputs": [
    {
     "data": {
      "text/html": [
       "<div>\n",
       "<style scoped>\n",
       "    .dataframe tbody tr th:only-of-type {\n",
       "        vertical-align: middle;\n",
       "    }\n",
       "\n",
       "    .dataframe tbody tr th {\n",
       "        vertical-align: top;\n",
       "    }\n",
       "\n",
       "    .dataframe thead th {\n",
       "        text-align: right;\n",
       "    }\n",
       "</style>\n",
       "<table border=\"1\" class=\"dataframe\">\n",
       "  <thead>\n",
       "    <tr style=\"text-align: right;\">\n",
       "      <th></th>\n",
       "      <th>Hours</th>\n",
       "      <th>Scores</th>\n",
       "    </tr>\n",
       "  </thead>\n",
       "  <tbody>\n",
       "    <tr>\n",
       "      <th>Hours</th>\n",
       "      <td>1.000000</td>\n",
       "      <td>0.976191</td>\n",
       "    </tr>\n",
       "    <tr>\n",
       "      <th>Scores</th>\n",
       "      <td>0.976191</td>\n",
       "      <td>1.000000</td>\n",
       "    </tr>\n",
       "  </tbody>\n",
       "</table>\n",
       "</div>"
      ],
      "text/plain": [
       "           Hours    Scores\n",
       "Hours   1.000000  0.976191\n",
       "Scores  0.976191  1.000000"
      ]
     },
     "execution_count": 15,
     "metadata": {},
     "output_type": "execute_result"
    }
   ],
   "source": [
    "# As both column are numeric we can do correlation check\n",
    "df.corr()"
   ]
  },
  {
   "cell_type": "markdown",
   "id": "0ab42294",
   "metadata": {},
   "source": [
    "INTERPRETATION : \n",
    "1. Both Columns are highly correlated to Each Other, hence we can conclude that Scores Depend on Number of Hours we have Studied"
   ]
  },
  {
   "cell_type": "code",
   "execution_count": 41,
   "id": "27353b92",
   "metadata": {
    "scrolled": false
   },
   "outputs": [
    {
     "data": {
      "image/png": "[encoded data removed]",
      "text/plain": [
       "<Figure size 1200x480 with 3 Axes>"
      ]
     },
     "metadata": {
      "needs_background": "light"
     },
     "output_type": "display_data"
    }
   ],
   "source": [
    "# we can check above statement by doing Data Visualization with relevant Plots like Heat Map and Scatterplot\n",
    "plt.figure(figsize = (20,8),dpi = 60)\n",
    "\n",
    "# Title of Subplots\n",
    "plt.suptitle('Correlation Between Study Hours and Marks',size = 40)\n",
    "\n",
    "# heatmap\n",
    "plt.subplot(1,2,1)\n",
    "sns.heatmap(df.corr(),annot=True,annot_kws={'size':30})\n",
    "\n",
    "# title\n",
    "plt.title('Heat Map',size = 30)\n",
    "# x axis \n",
    "plt.xticks(size = 25)\n",
    "# y axis\n",
    "plt.yticks(size = 25)\n",
    "\n",
    "# scatterplot\n",
    "plt.subplot(1,2,2)\n",
    "sns.scatterplot(data =df, x = 'Hours',y = 'Scores')\n",
    "# title\n",
    "plt.title('Scatter Plot',size = 30)\n",
    "# x axis \n",
    "plt.xlabel('Hours',size = 30)\n",
    "plt.xticks(size = 25)\n",
    "# y axis\n",
    "plt.ylabel('Score',size = 30)\n",
    "plt.yticks(size = 25)\n",
    "\n",
    "# show\n",
    "plt.tight_layout()\n",
    "plt.grid(True)\n",
    "plt.show()"
   ]
  },
  {
   "cell_type": "markdown",
   "id": "35355d43",
   "metadata": {},
   "source": [
    "INTERPRETATION : \n",
    "1. From This Also We can See Hours of Study and Scores are strongly Correlated to Each other.\n",
    "2. Hence We can Conclude That More We Put in Time For Study Better and Higer Will Be Our Score"
   ]
  },
  {
   "cell_type": "markdown",
   "id": "77f8fbfe",
   "metadata": {},
   "source": [
    "### 4. SPLITING TRAIN AND TEST DATA OF THE DATA FRAME"
   ]
  },
  {
   "cell_type": "code",
   "execution_count": 83,
   "id": "d989c24d",
   "metadata": {},
   "outputs": [
    {
     "name": "stdout",
     "output_type": "stream",
     "text": [
      "Shape of train data  (20,)\n",
      "Shape of the test data  (5,)\n"
     ]
    }
   ],
   "source": [
    "# DIVIDING DATA INTO TRAIN AND TEST DATA\n",
    "# SPLITING DATA INTO 20% DATA AS TEST AND 80% DATA AS TRAIN --> WE WILL HAVE MORE DATA TO TRAIN ON\n",
    "x_train, x_test , y_train, y_test = train_test_split(df['Hours'],df['Scores'],test_size=0.2,random_state=10 )\n",
    "\n",
    "# SHAPE OF TRAIN AND TEST DATA\n",
    "print('Shape of train data ',x_train.shape)\n",
    "print('Shape of the test data ',x_test.shape)"
   ]
  },
  {
   "cell_type": "markdown",
   "id": "f57510b3",
   "metadata": {},
   "source": [
    "CHECKING IF THE DATA IS SPLIT IN CORRECT WAY"
   ]
  },
  {
   "cell_type": "code",
   "execution_count": 82,
   "id": "483ee14d",
   "metadata": {},
   "outputs": [
    {
     "data": {
      "text/html": [
       "<div>\n",
       "<style scoped>\n",
       "    .dataframe tbody tr th:only-of-type {\n",
       "        vertical-align: middle;\n",
       "    }\n",
       "\n",
       "    .dataframe tbody tr th {\n",
       "        vertical-align: top;\n",
       "    }\n",
       "\n",
       "    .dataframe thead th {\n",
       "        text-align: right;\n",
       "    }\n",
       "</style>\n",
       "<table border=\"1\" class=\"dataframe\">\n",
       "  <thead>\n",
       "    <tr style=\"text-align: right;\">\n",
       "      <th></th>\n",
       "      <th>Train</th>\n",
       "      <th>Test</th>\n",
       "    </tr>\n",
       "  </thead>\n",
       "  <tbody>\n",
       "    <tr>\n",
       "      <th>Mean</th>\n",
       "      <td>4.950000</td>\n",
       "      <td>5.069231</td>\n",
       "    </tr>\n",
       "    <tr>\n",
       "      <th>Standard Deviation</th>\n",
       "      <td>2.652443</td>\n",
       "      <td>2.509112</td>\n",
       "    </tr>\n",
       "  </tbody>\n",
       "</table>\n",
       "</div>"
      ],
      "text/plain": [
       "                       Train      Test\n",
       "Mean                4.950000  5.069231\n",
       "Standard Deviation  2.652443  2.509112"
      ]
     },
     "execution_count": 82,
     "metadata": {},
     "output_type": "execute_result"
    }
   ],
   "source": [
    "# To Check If We Have Split Data Correctly we need to check Mean and Standard Deviation of the Train and Test Data\n",
    "train_data_mean = x_train.mean()\n",
    "test_data_mean = x_test.mean()\n",
    "train_data_std = x_train.std()\n",
    "test_data_std = x_test.std()\n",
    "\n",
    "# Creating Data Frame\n",
    "df_split = pd.DataFrame(data={'Train':[train_data_mean,train_data_std],\n",
    "                         'Test':[test_data_mean,test_data_std]},\n",
    "                        index=['Mean','Standard Deviation'])\n",
    "df_split"
   ]
  },
  {
   "cell_type": "markdown",
   "id": "78ae3aba",
   "metadata": {},
   "source": [
    "### 4. Making the Model"
   ]
  },
  {
   "cell_type": "markdown",
   "id": "1e00836d",
   "metadata": {},
   "source": [
    "SIGNIFICANT POINTS BEFORE BUILDING MODEL\n",
    "\n",
    "1. DEPENDENT VARIABLE - Variable Which We are Predicting is Dependent Variable. Denoted by Y\n",
    "2. INDEPENDENT VARIABLE - Variable Which We are using to Predict Dependent Variable is Know as Independent Variable.Denoted by X \n",
    "3. SIMPLE LINEAR REGRESSION - SLR is the Regression Model in which we have Only ONE Independent Varible. So in we are going for SLR as we have one independent variable that is number of hours of study"
   ]
  },
  {
   "cell_type": "markdown",
   "id": "df04acb4",
   "metadata": {},
   "source": [
    "#### METHOD ORDINARY LEAST SQUARE REGRESSION"
   ]
  },
  {
   "cell_type": "code",
   "execution_count": 92,
   "id": "fe8951cf",
   "metadata": {},
   "outputs": [
    {
     "data": {
      "text/html": [
       "<table class=\"simpletable\">\n",
       "<caption>OLS Regression Results</caption>\n",
       "<tr>\n",
       "  <th>Dep. Variable:</th>         <td>Scores</td>      <th>  R-squared:         </th> <td>   0.958</td>\n",
       "</tr>\n",
       "<tr>\n",
       "  <th>Model:</th>                   <td>OLS</td>       <th>  Adj. R-squared:    </th> <td>   0.956</td>\n",
       "</tr>\n",
       "<tr>\n",
       "  <th>Method:</th>             <td>Least Squares</td>  <th>  F-statistic:       </th> <td>   411.3</td>\n",
       "</tr>\n",
       "<tr>\n",
       "  <th>Date:</th>             <td>Tue, 08 Nov 2022</td> <th>  Prob (F-statistic):</th> <td>7.57e-14</td>\n",
       "</tr>\n",
       "<tr>\n",
       "  <th>Time:</th>                 <td>15:39:18</td>     <th>  Log-Likelihood:    </th> <td> -61.593</td>\n",
       "</tr>\n",
       "<tr>\n",
       "  <th>No. Observations:</th>      <td>    20</td>      <th>  AIC:               </th> <td>   127.2</td>\n",
       "</tr>\n",
       "<tr>\n",
       "  <th>Df Residuals:</th>          <td>    18</td>      <th>  BIC:               </th> <td>   129.2</td>\n",
       "</tr>\n",
       "<tr>\n",
       "  <th>Df Model:</th>              <td>     1</td>      <th>                     </th>     <td> </td>   \n",
       "</tr>\n",
       "<tr>\n",
       "  <th>Covariance Type:</th>      <td>nonrobust</td>    <th>                     </th>     <td> </td>   \n",
       "</tr>\n",
       "</table>\n",
       "<table class=\"simpletable\">\n",
       "<tr>\n",
       "    <td></td>       <th>coef</th>     <th>std err</th>      <th>t</th>      <th>P>|t|</th>  <th>[0.025</th>    <th>0.975]</th>  \n",
       "</tr>\n",
       "<tr>\n",
       "  <th>const</th> <td>    2.6500</td> <td>    2.886</td> <td>    0.918</td> <td> 0.371</td> <td>   -3.414</td> <td>    8.714</td>\n",
       "</tr>\n",
       "<tr>\n",
       "  <th>Hours</th> <td>    9.8143</td> <td>    0.484</td> <td>   20.280</td> <td> 0.000</td> <td>    8.798</td> <td>   10.831</td>\n",
       "</tr>\n",
       "</table>\n",
       "<table class=\"simpletable\">\n",
       "<tr>\n",
       "  <th>Omnibus:</th>       <td> 2.955</td> <th>  Durbin-Watson:     </th> <td>   2.077</td>\n",
       "</tr>\n",
       "<tr>\n",
       "  <th>Prob(Omnibus):</th> <td> 0.228</td> <th>  Jarque-Bera (JB):  </th> <td>   1.687</td>\n",
       "</tr>\n",
       "<tr>\n",
       "  <th>Skew:</th>          <td>-0.447</td> <th>  Prob(JB):          </th> <td>   0.430</td>\n",
       "</tr>\n",
       "<tr>\n",
       "  <th>Kurtosis:</th>      <td> 1.893</td> <th>  Cond. No.          </th> <td>    14.2</td>\n",
       "</tr>\n",
       "</table><br/><br/>Notes:<br/>[1] Standard Errors assume that the covariance matrix of the errors is correctly specified."
      ],
      "text/plain": [
       "<class 'statsmodels.iolib.summary.Summary'>\n",
       "\"\"\"\n",
       "                            OLS Regression Results                            \n",
       "==============================================================================\n",
       "Dep. Variable:                 Scores   R-squared:                       0.958\n",
       "Model:                            OLS   Adj. R-squared:                  0.956\n",
       "Method:                 Least Squares   F-statistic:                     411.3\n",
       "Date:                Tue, 08 Nov 2022   Prob (F-statistic):           7.57e-14\n",
       "Time:                        15:39:18   Log-Likelihood:                -61.593\n",
       "No. Observations:                  20   AIC:                             127.2\n",
       "Df Residuals:                      18   BIC:                             129.2\n",
       "Df Model:                           1                                         \n",
       "Covariance Type:            nonrobust                                         \n",
       "==============================================================================\n",
       "                 coef    std err          t      P>|t|      [0.025      0.975]\n",
       "------------------------------------------------------------------------------\n",
       "const          2.6500      2.886      0.918      0.371      -3.414       8.714\n",
       "Hours          9.8143      0.484     20.280      0.000       8.798      10.831\n",
       "==============================================================================\n",
       "Omnibus:                        2.955   Durbin-Watson:                   2.077\n",
       "Prob(Omnibus):                  0.228   Jarque-Bera (JB):                1.687\n",
       "Skew:                          -0.447   Prob(JB):                        0.430\n",
       "Kurtosis:                       1.893   Cond. No.                         14.2\n",
       "==============================================================================\n",
       "\n",
       "Notes:\n",
       "[1] Standard Errors assume that the covariance matrix of the errors is correctly specified.\n",
       "\"\"\""
      ]
     },
     "execution_count": 92,
     "metadata": {},
     "output_type": "execute_result"
    }
   ],
   "source": [
    "# Ordinary Least Square Regression\n",
    "x_constant = sm.add_constant(x_train)\n",
    "ols_model = sm.OLS(y_train,x_constant).fit()\n",
    "ols_model.summary()"
   ]
  },
  {
   "cell_type": "code",
   "execution_count": 105,
   "id": "12fdd767",
   "metadata": {},
   "outputs": [
    {
     "name": "stdout",
     "output_type": "stream",
     "text": [
      "Adjusted and R Square Value 0.0023294319749767034\n"
     ]
    }
   ],
   "source": [
    "rsquare_value_ols = ols_model.rsquared\n",
    "adj_rsquare_ols = ols_model.rsquared_adj\n",
    "\n",
    "# difference between rsquare and adjusted rsquare value\n",
    "print(f'Adjusted and R Square Value {rsquare_value_ols-adj_rsquare_ols}')"
   ]
  },
  {
   "cell_type": "markdown",
   "id": "e7db9aef",
   "metadata": {},
   "source": [
    "INTERPRETATION:\n",
    "1. DIFFERENCE VALUE BETWEEN ADJUSTED AND R SQUARE VALUE IS VERY CLOSE TO ZERO HENCE MODEL IS VERY OPTIMAL MODEL"
   ]
  },
  {
   "cell_type": "code",
   "execution_count": 104,
   "id": "55ac0703",
   "metadata": {},
   "outputs": [
    {
     "data": {
      "text/plain": [
       "5     17.371423\n",
       "1     52.702923\n",
       "13    35.037173\n",
       "2     34.055743\n",
       "12    46.814340\n",
       "dtype: float64"
      ]
     },
     "execution_count": 104,
     "metadata": {},
     "output_type": "execute_result"
    }
   ],
   "source": [
    "# TEST\n",
    "# ADDING CONSTANT\n",
    "x_constant_test = sm.add_constant(x_test)\n",
    "test_prediction = ols_model.predict(x_constant_test)\n",
    "test_prediction"
   ]
  },
  {
   "cell_type": "code",
   "execution_count": 103,
   "id": "8a5ea424",
   "metadata": {},
   "outputs": [
    {
     "data": {
      "text/html": [
       "<div>\n",
       "<style scoped>\n",
       "    .dataframe tbody tr th:only-of-type {\n",
       "        vertical-align: middle;\n",
       "    }\n",
       "\n",
       "    .dataframe tbody tr th {\n",
       "        vertical-align: top;\n",
       "    }\n",
       "\n",
       "    .dataframe thead th {\n",
       "        text-align: right;\n",
       "    }\n",
       "</style>\n",
       "<table border=\"1\" class=\"dataframe\">\n",
       "  <thead>\n",
       "    <tr style=\"text-align: right;\">\n",
       "      <th></th>\n",
       "      <th>Actual</th>\n",
       "      <th>Prediction</th>\n",
       "      <th>Difference</th>\n",
       "    </tr>\n",
       "  </thead>\n",
       "  <tbody>\n",
       "    <tr>\n",
       "      <th>5</th>\n",
       "      <td>20</td>\n",
       "      <td>17.371423</td>\n",
       "      <td>2.628577</td>\n",
       "    </tr>\n",
       "    <tr>\n",
       "      <th>1</th>\n",
       "      <td>47</td>\n",
       "      <td>52.702923</td>\n",
       "      <td>-5.702923</td>\n",
       "    </tr>\n",
       "    <tr>\n",
       "      <th>13</th>\n",
       "      <td>42</td>\n",
       "      <td>35.037173</td>\n",
       "      <td>6.962827</td>\n",
       "    </tr>\n",
       "    <tr>\n",
       "      <th>2</th>\n",
       "      <td>27</td>\n",
       "      <td>34.055743</td>\n",
       "      <td>-7.055743</td>\n",
       "    </tr>\n",
       "    <tr>\n",
       "      <th>12</th>\n",
       "      <td>41</td>\n",
       "      <td>46.814340</td>\n",
       "      <td>-5.814340</td>\n",
       "    </tr>\n",
       "  </tbody>\n",
       "</table>\n",
       "</div>"
      ],
      "text/plain": [
       "    Actual  Prediction  Difference\n",
       "5       20   17.371423    2.628577\n",
       "1       47   52.702923   -5.702923\n",
       "13      42   35.037173    6.962827\n",
       "2       27   34.055743   -7.055743\n",
       "12      41   46.814340   -5.814340"
      ]
     },
     "execution_count": 103,
     "metadata": {},
     "output_type": "execute_result"
    }
   ],
   "source": [
    "# DATAFRAME FOR THE TEST AND PREDICTION\n",
    "test_df = pd.DataFrame(data= {'Actual':y_test,\n",
    "                              'Prediction':test_prediction})\n",
    "test_df['Difference'] = test_df['Actual'] - test_df['Prediction']\n",
    "test_df"
   ]
  },
  {
   "cell_type": "markdown",
   "id": "c93f5f3a",
   "metadata": {},
   "source": [
    "##### 5. CREATING FUNCTION TO PREDICT THE MARKS"
   ]
  },
  {
   "cell_type": "code",
   "execution_count": 93,
   "id": "1550ba80",
   "metadata": {},
   "outputs": [],
   "source": [
    "# Creating User Defined Function\n",
    "def study_hours(n):\n",
    "    # adding constant\n",
    "    cons = [1,n]\n",
    "    # Using Simple Linear Regression OLS Model\n",
    "    prediction = ols_model.predict(cons)\n",
    "    return prediction"
   ]
  },
  {
   "cell_type": "code",
   "execution_count": 95,
   "id": "24bd725e",
   "metadata": {},
   "outputs": [
    {
     "name": "stdout",
     "output_type": "stream",
     "text": [
      "Please Mention Studying Hours : 9.25\n",
      "Studying Hours are 9.25 score will be 93.43\n"
     ]
    }
   ],
   "source": [
    "num = float(input('Please Mention Studying Hours : '))\n",
    "score = round(study_hours(num)[0],2)\n",
    "print(f'Studying Hours are {num} score will be {score}')"
   ]
  },
  {
   "cell_type": "code",
   "execution_count": null,
   "id": "982e612a",
   "metadata": {},
   "outputs": [],
   "source": []
  },
  {
   "cell_type": "code",
   "execution_count": null,
   "id": "e8c1990f",
   "metadata": {},
   "outputs": [],
   "source": []
  },
  {
   "cell_type": "code",
   "execution_count": null,
   "id": "2c59fc8a",
   "metadata": {},
   "outputs": [],
   "source": []
  }
 ],
 "metadata": {
  "kernelspec": {
   "display_name": "Python 3",
   "language": "python",
   "name": "python3"
  },
  "language_info": {
   "codemirror_mode": {
    "name": "ipython",
    "version": 3
   },
   "file_extension": ".py",
   "mimetype": "text/x-python",
   "name": "python",
   "nbconvert_exporter": "python",
   "pygments_lexer": "ipython3",
   "version": "3.8.8"
  }
 },
 "nbformat": 4,
 "nbformat_minor": 5
}
